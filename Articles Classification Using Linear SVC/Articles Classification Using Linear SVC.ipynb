{
 "cells": [
  {
   "cell_type": "markdown",
   "metadata": {},
   "source": [
    "# Project:  Articles Classification\n",
    "\n",
    "## Table of Contents\n",
    "\n",
    "<ul>\n",
    "<li><a href=\"#PS\">Problem Statement</a></li>\n",
    "<li><a href=\"#DG\">Data Gathering</a></li>\n",
    "<li><a href=\"#A&C\">Assessing & Cleaning</a></li>\n",
    "<li><a href=\"#SP\">Splitting the Data</a></li>\n",
    "<li><a href=\"#TC\">Data Transformation & Classification</a></li>\n",
    "</ul>"
   ]
  },
  {
   "cell_type": "markdown",
   "metadata": {},
   "source": [
    "<a id=\"PS\"><a/>\n",
    "# Problem Statement\n",
    "\n",
    ">Classifying the type of the acticles based on the content of its body by testing different Algorithms."
   ]
  },
  {
   "cell_type": "markdown",
   "metadata": {},
   "source": [
    "<a id=\"DG\"><a/>\n",
    "# Data Gathering"
   ]
  },
  {
   "cell_type": "code",
   "execution_count": 1,
   "metadata": {},
   "outputs": [],
   "source": [
    "#Importing the needed libraries\n",
    "import urllib.request\n",
    "import json \n",
    "import pandas as pd\n",
    "%matplotlib inline"
   ]
  },
  {
   "cell_type": "code",
   "execution_count": 2,
   "metadata": {},
   "outputs": [
    {
     "name": "stderr",
     "output_type": "stream",
     "text": [
      "IOPub data rate exceeded.\n",
      "The notebook server will temporarily stop sending output\n",
      "to the client in order to avoid crashing it.\n",
      "To change this limit, set the config variable\n",
      "`--NotebookApp.iopub_data_rate_limit`.\n",
      "\n",
      "Current values:\n",
      "NotebookApp.iopub_data_rate_limit=1000000.0 (bytes/sec)\n",
      "NotebookApp.rate_limit_window=3.0 (secs)\n",
      "\n"
     ]
    }
   ],
   "source": [
    "#Reading Json URL\n",
    "response = urllib.request.urlopen('https://knowledge-officer-assessments.s3.us-east-2.amazonaws.com/machine-learning/assignment%231/articles.json')\n",
    "data = json.loads(response.read())\n",
    "print(data)"
   ]
  },
  {
   "cell_type": "code",
   "execution_count": 3,
   "metadata": {},
   "outputs": [
    {
     "name": "stdout",
     "output_type": "stream",
     "text": [
      "Index(['body', 'title', 'category'], dtype='object')\n"
     ]
    },
    {
     "data": {
      "text/html": [
       "<div>\n",
       "<style scoped>\n",
       "    .dataframe tbody tr th:only-of-type {\n",
       "        vertical-align: middle;\n",
       "    }\n",
       "\n",
       "    .dataframe tbody tr th {\n",
       "        vertical-align: top;\n",
       "    }\n",
       "\n",
       "    .dataframe thead th {\n",
       "        text-align: right;\n",
       "    }\n",
       "</style>\n",
       "<table border=\"1\" class=\"dataframe\">\n",
       "  <thead>\n",
       "    <tr style=\"text-align: right;\">\n",
       "      <th></th>\n",
       "      <th>body</th>\n",
       "      <th>title</th>\n",
       "      <th>category</th>\n",
       "    </tr>\n",
       "  </thead>\n",
       "  <tbody>\n",
       "    <tr>\n",
       "      <th>0</th>\n",
       "      <td>Protecting Netflix Viewing Privacy at Scale\\r\\...</td>\n",
       "      <td>Protecting Netflix Viewing Privacy at Scale</td>\n",
       "      <td>Engineering</td>\n",
       "    </tr>\n",
       "    <tr>\n",
       "      <th>1</th>\n",
       "      <td>Introducing Winston — Event driven Diagnostic ...</td>\n",
       "      <td>Introducing Winston - Event driven Diagnostic ...</td>\n",
       "      <td>Engineering</td>\n",
       "    </tr>\n",
       "    <tr>\n",
       "      <th>2</th>\n",
       "      <td>Performance &amp; Usage at Instagram\\r\\n\\r\\nAt Ins...</td>\n",
       "      <td>Performance &amp; Usage at Instagram</td>\n",
       "      <td>Engineering</td>\n",
       "    </tr>\n",
       "    <tr>\n",
       "      <th>3</th>\n",
       "      <td>The simple example of calculating and formatti...</td>\n",
       "      <td>Refactoring a javascript video store</td>\n",
       "      <td>Engineering</td>\n",
       "    </tr>\n",
       "    <tr>\n",
       "      <th>4</th>\n",
       "      <td>Billing applications have transactions that ne...</td>\n",
       "      <td>Netflix Billing Migration to AWS - Part III</td>\n",
       "      <td>Engineering</td>\n",
       "    </tr>\n",
       "    <tr>\n",
       "      <th>...</th>\n",
       "      <td>...</td>\n",
       "      <td>...</td>\n",
       "      <td>...</td>\n",
       "    </tr>\n",
       "    <tr>\n",
       "      <th>2476</th>\n",
       "      <td>At the Early Stage, Focus on Unit Economic Pro...</td>\n",
       "      <td>At the Early Stage, Focus on Unit Economic Pro...</td>\n",
       "      <td>Startups &amp; Business</td>\n",
       "    </tr>\n",
       "    <tr>\n",
       "      <th>2477</th>\n",
       "      <td>5 Tips to Nail a Successful Product Launch\\n\\n...</td>\n",
       "      <td>5 Tips to Nail a Successful Product Launch</td>\n",
       "      <td>Startups &amp; Business</td>\n",
       "    </tr>\n",
       "    <tr>\n",
       "      <th>2478</th>\n",
       "      <td>Routes to Defensibility for your AI Startup\\n\\...</td>\n",
       "      <td>Routes to Defensibility for your AI Startup</td>\n",
       "      <td>Engineering</td>\n",
       "    </tr>\n",
       "    <tr>\n",
       "      <th>2479</th>\n",
       "      <td>Faster. Faster. Faster.\\r\\n\\r\\nI’d like to tal...</td>\n",
       "      <td>Faster. Faster. Faster.</td>\n",
       "      <td>Product &amp; Design</td>\n",
       "    </tr>\n",
       "    <tr>\n",
       "      <th>2480</th>\n",
       "      <td>Netflix is a place where people win. They exce...</td>\n",
       "      <td>Humans Hate Being Spun: How to Practice Radica...</td>\n",
       "      <td>Startups &amp; Business</td>\n",
       "    </tr>\n",
       "  </tbody>\n",
       "</table>\n",
       "<p>2481 rows × 3 columns</p>\n",
       "</div>"
      ],
      "text/plain": [
       "                                                   body  \\\n",
       "0     Protecting Netflix Viewing Privacy at Scale\\r\\...   \n",
       "1     Introducing Winston — Event driven Diagnostic ...   \n",
       "2     Performance & Usage at Instagram\\r\\n\\r\\nAt Ins...   \n",
       "3     The simple example of calculating and formatti...   \n",
       "4     Billing applications have transactions that ne...   \n",
       "...                                                 ...   \n",
       "2476  At the Early Stage, Focus on Unit Economic Pro...   \n",
       "2477  5 Tips to Nail a Successful Product Launch\\n\\n...   \n",
       "2478  Routes to Defensibility for your AI Startup\\n\\...   \n",
       "2479  Faster. Faster. Faster.\\r\\n\\r\\nI’d like to tal...   \n",
       "2480  Netflix is a place where people win. They exce...   \n",
       "\n",
       "                                                  title             category  \n",
       "0           Protecting Netflix Viewing Privacy at Scale          Engineering  \n",
       "1     Introducing Winston - Event driven Diagnostic ...          Engineering  \n",
       "2                      Performance & Usage at Instagram          Engineering  \n",
       "3                  Refactoring a javascript video store          Engineering  \n",
       "4           Netflix Billing Migration to AWS - Part III          Engineering  \n",
       "...                                                 ...                  ...  \n",
       "2476  At the Early Stage, Focus on Unit Economic Pro...  Startups & Business  \n",
       "2477         5 Tips to Nail a Successful Product Launch  Startups & Business  \n",
       "2478        Routes to Defensibility for your AI Startup          Engineering  \n",
       "2479                            Faster. Faster. Faster.     Product & Design  \n",
       "2480  Humans Hate Being Spun: How to Practice Radica...  Startups & Business  \n",
       "\n",
       "[2481 rows x 3 columns]"
      ]
     },
     "execution_count": 3,
     "metadata": {},
     "output_type": "execute_result"
    }
   ],
   "source": [
    "#Transforming the data from json to DataFrame\n",
    "data_new = pd.DataFrame.from_dict(data)\n",
    "print(data_new.columns)\n",
    "data_new"
   ]
  },
  {
   "cell_type": "markdown",
   "metadata": {},
   "source": [
    "### Now we have 3 features ['body','title','category'], we need to fit our model with the appropriate words using \"body\" or \"title\" so the model can be able to categorize the new articles to the correct category which they belong to."
   ]
  },
  {
   "cell_type": "markdown",
   "metadata": {},
   "source": [
    "<a id='A&C'><a/>\n",
    "# Data Assessing & Cleaning"
   ]
  },
  {
   "cell_type": "code",
   "execution_count": 4,
   "metadata": {},
   "outputs": [
    {
     "name": "stdout",
     "output_type": "stream",
     "text": [
      "<class 'pandas.core.frame.DataFrame'>\n",
      "RangeIndex: 2481 entries, 0 to 2480\n",
      "Data columns (total 3 columns):\n",
      " #   Column    Non-Null Count  Dtype \n",
      "---  ------    --------------  ----- \n",
      " 0   body      2481 non-null   object\n",
      " 1   title     2481 non-null   object\n",
      " 2   category  2481 non-null   object\n",
      "dtypes: object(3)\n",
      "memory usage: 58.3+ KB\n"
     ]
    }
   ],
   "source": [
    "#checing the missing values and the data type\n",
    "data_new.info()"
   ]
  },
  {
   "cell_type": "code",
   "execution_count": 5,
   "metadata": {},
   "outputs": [],
   "source": [
    "data_new.dropna(subset=['body'],inplace=True)\n",
    "data_new.drop_duplicates(subset=['body'],inplace=True)"
   ]
  },
  {
   "cell_type": "code",
   "execution_count": 6,
   "metadata": {
    "scrolled": true
   },
   "outputs": [
    {
     "data": {
      "text/plain": [
       "Startups & Business    1017\n",
       "Product & Design        833\n",
       "Engineering             530\n",
       "Name: category, dtype: int64"
      ]
     },
     "execution_count": 6,
     "metadata": {},
     "output_type": "execute_result"
    }
   ],
   "source": [
    "#Councting the number of each entries in category column.\n",
    "data_new['category'].value_counts()"
   ]
  },
  {
   "cell_type": "code",
   "execution_count": 7,
   "metadata": {},
   "outputs": [
    {
     "data": {
      "image/png": "[encoded data removed]",
      "text/plain": [
       "<Figure size 504x216 with 1 Axes>"
      ]
     },
     "metadata": {
      "needs_background": "light"
     },
     "output_type": "display_data"
    }
   ],
   "source": [
    "#ploting the number of the enteries.\n",
    "data_new['category'].value_counts().plot.barh(figsize=(7,3));"
   ]
  },
  {
   "cell_type": "markdown",
   "metadata": {},
   "source": [
    "### The classes are not equal so we will be sampling the same size of sample from the data for each class,to make the data balanced when we are fitting the model."
   ]
  },
  {
   "cell_type": "code",
   "execution_count": 8,
   "metadata": {},
   "outputs": [],
   "source": [
    "#Sampling the same sample size of \"Engineering\" for \"Product & Design\" & \"Startups & Business\"\n",
    "\n",
    "product_data = data_new[data_new['category'] == 'Product & Design'].sample(n=530, replace=False)\n",
    "startup_data = data_new[data_new['category'] == 'Startups & Business'].sample(n=530, replace=False)"
   ]
  },
  {
   "cell_type": "code",
   "execution_count": 9,
   "metadata": {},
   "outputs": [],
   "source": [
    "#Filtering the data then concatenating the data into 1 DataFrame and shuffle all of the data again\n",
    "\n",
    "engineering_data = data_new[data_new['category'] == 'Engineering']\n",
    "balanced_data = pd.concat([product_data,startup_data,engineering_data]).sample(frac=1,replace=False)\n",
    "balanced_data = balanced_data.reset_index()"
   ]
  },
  {
   "cell_type": "code",
   "execution_count": 10,
   "metadata": {},
   "outputs": [
    {
     "data": {
      "image/png": "[encoded data removed]",
      "text/plain": [
       "<Figure size 504x216 with 1 Axes>"
      ]
     },
     "metadata": {
      "needs_background": "light"
     },
     "output_type": "display_data"
    }
   ],
   "source": [
    "#Plotting the data again after sampling\n",
    "balanced_data['category'].value_counts().plot.barh(figsize=(7,3));"
   ]
  },
  {
   "cell_type": "code",
   "execution_count": 11,
   "metadata": {},
   "outputs": [
    {
     "data": {
      "text/html": [
       "<div>\n",
       "<style scoped>\n",
       "    .dataframe tbody tr th:only-of-type {\n",
       "        vertical-align: middle;\n",
       "    }\n",
       "\n",
       "    .dataframe tbody tr th {\n",
       "        vertical-align: top;\n",
       "    }\n",
       "\n",
       "    .dataframe thead th {\n",
       "        text-align: right;\n",
       "    }\n",
       "</style>\n",
       "<table border=\"1\" class=\"dataframe\">\n",
       "  <thead>\n",
       "    <tr style=\"text-align: right;\">\n",
       "      <th></th>\n",
       "      <th>index</th>\n",
       "      <th>body</th>\n",
       "      <th>title</th>\n",
       "      <th>category</th>\n",
       "    </tr>\n",
       "  </thead>\n",
       "  <tbody>\n",
       "    <tr>\n",
       "      <th>0</th>\n",
       "      <td>341</td>\n",
       "      <td>A Proposed Recipe for Designing, Building and ...</td>\n",
       "      <td>A Proposed Recipe for Designing, Building and ...</td>\n",
       "      <td>Engineering</td>\n",
       "    </tr>\n",
       "    <tr>\n",
       "      <th>1</th>\n",
       "      <td>323</td>\n",
       "      <td>This is a write up of my notes (plus some furt...</td>\n",
       "      <td>JavaScript and Functional Programming</td>\n",
       "      <td>Engineering</td>\n",
       "    </tr>\n",
       "    <tr>\n",
       "      <th>2</th>\n",
       "      <td>1970</td>\n",
       "      <td>524 SHARES Twitter Linkedin Facebook\\r\\n\\r\\nIn...</td>\n",
       "      <td>The Power of Data Network Effects</td>\n",
       "      <td>Startups &amp; Business</td>\n",
       "    </tr>\n",
       "    <tr>\n",
       "      <th>3</th>\n",
       "      <td>1635</td>\n",
       "      <td>Merging the gaps between data science and engi...</td>\n",
       "      <td>What is a productive data engineering team?</td>\n",
       "      <td>Engineering</td>\n",
       "    </tr>\n",
       "    <tr>\n",
       "      <th>4</th>\n",
       "      <td>2128</td>\n",
       "      <td>The energy was high at CloudApp’s Monday morni...</td>\n",
       "      <td>Data-Driven Customer Retention</td>\n",
       "      <td>Product &amp; Design</td>\n",
       "    </tr>\n",
       "    <tr>\n",
       "      <th>5</th>\n",
       "      <td>282</td>\n",
       "      <td>After hearing about Pokemon Go, I spent a good...</td>\n",
       "      <td>Thoughts on Pokemon Go</td>\n",
       "      <td>Startups &amp; Business</td>\n",
       "    </tr>\n",
       "    <tr>\n",
       "      <th>6</th>\n",
       "      <td>495</td>\n",
       "      <td>The Importance of Listening to Your Customers ...</td>\n",
       "      <td>The Importance of Listening to Your Customers ...</td>\n",
       "      <td>Product &amp; Design</td>\n",
       "    </tr>\n",
       "    <tr>\n",
       "      <th>7</th>\n",
       "      <td>863</td>\n",
       "      <td>React Native at Instagram\\n\\nReact Native has ...</td>\n",
       "      <td>React Native at Instagram</td>\n",
       "      <td>Engineering</td>\n",
       "    </tr>\n",
       "    <tr>\n",
       "      <th>8</th>\n",
       "      <td>1476</td>\n",
       "      <td>Visual aesthetics are very personal, often sub...</td>\n",
       "      <td>Personalized Aesthetics: Recording the Visual ...</td>\n",
       "      <td>Engineering</td>\n",
       "    </tr>\n",
       "    <tr>\n",
       "      <th>9</th>\n",
       "      <td>669</td>\n",
       "      <td>A Product Manager’s Guide to Strong Team Commu...</td>\n",
       "      <td>A Product Manager’s Guide to Strong Team Commu...</td>\n",
       "      <td>Product &amp; Design</td>\n",
       "    </tr>\n",
       "  </tbody>\n",
       "</table>\n",
       "</div>"
      ],
      "text/plain": [
       "   index                                               body  \\\n",
       "0    341  A Proposed Recipe for Designing, Building and ...   \n",
       "1    323  This is a write up of my notes (plus some furt...   \n",
       "2   1970  524 SHARES Twitter Linkedin Facebook\\r\\n\\r\\nIn...   \n",
       "3   1635  Merging the gaps between data science and engi...   \n",
       "4   2128  The energy was high at CloudApp’s Monday morni...   \n",
       "5    282  After hearing about Pokemon Go, I spent a good...   \n",
       "6    495  The Importance of Listening to Your Customers ...   \n",
       "7    863  React Native at Instagram\\n\\nReact Native has ...   \n",
       "8   1476  Visual aesthetics are very personal, often sub...   \n",
       "9    669  A Product Manager’s Guide to Strong Team Commu...   \n",
       "\n",
       "                                               title             category  \n",
       "0  A Proposed Recipe for Designing, Building and ...          Engineering  \n",
       "1              JavaScript and Functional Programming          Engineering  \n",
       "2                  The Power of Data Network Effects  Startups & Business  \n",
       "3        What is a productive data engineering team?          Engineering  \n",
       "4                     Data-Driven Customer Retention     Product & Design  \n",
       "5                             Thoughts on Pokemon Go  Startups & Business  \n",
       "6  The Importance of Listening to Your Customers ...     Product & Design  \n",
       "7                          React Native at Instagram          Engineering  \n",
       "8  Personalized Aesthetics: Recording the Visual ...          Engineering  \n",
       "9  A Product Manager’s Guide to Strong Team Commu...     Product & Design  "
      ]
     },
     "execution_count": 11,
     "metadata": {},
     "output_type": "execute_result"
    }
   ],
   "source": [
    "balanced_data.head(10)"
   ]
  },
  {
   "cell_type": "code",
   "execution_count": 12,
   "metadata": {},
   "outputs": [
    {
     "name": "stdout",
     "output_type": "stream",
     "text": [
      "<class 'pandas.core.frame.DataFrame'>\n",
      "RangeIndex: 1590 entries, 0 to 1589\n",
      "Data columns (total 4 columns):\n",
      " #   Column    Non-Null Count  Dtype \n",
      "---  ------    --------------  ----- \n",
      " 0   index     1590 non-null   int64 \n",
      " 1   body      1590 non-null   object\n",
      " 2   title     1590 non-null   object\n",
      " 3   category  1590 non-null   object\n",
      "dtypes: int64(1), object(3)\n",
      "memory usage: 49.8+ KB\n"
     ]
    }
   ],
   "source": [
    "balanced_data.info()"
   ]
  },
  {
   "cell_type": "markdown",
   "metadata": {},
   "source": [
    "### We will be dropping the Index column from our DataFrame and the Title column as we are going to tokanize the Body only to fit it into our model.\n"
   ]
  },
  {
   "cell_type": "code",
   "execution_count": 13,
   "metadata": {},
   "outputs": [],
   "source": [
    "#We will be dropping the Index Title from our Data.\n",
    "new_data = balanced_data.drop(['index','title'],axis=1)"
   ]
  },
  {
   "cell_type": "code",
   "execution_count": 14,
   "metadata": {},
   "outputs": [
    {
     "data": {
      "text/html": [
       "<div>\n",
       "<style scoped>\n",
       "    .dataframe tbody tr th:only-of-type {\n",
       "        vertical-align: middle;\n",
       "    }\n",
       "\n",
       "    .dataframe tbody tr th {\n",
       "        vertical-align: top;\n",
       "    }\n",
       "\n",
       "    .dataframe thead th {\n",
       "        text-align: right;\n",
       "    }\n",
       "</style>\n",
       "<table border=\"1\" class=\"dataframe\">\n",
       "  <thead>\n",
       "    <tr style=\"text-align: right;\">\n",
       "      <th></th>\n",
       "      <th>body</th>\n",
       "      <th>category</th>\n",
       "    </tr>\n",
       "  </thead>\n",
       "  <tbody>\n",
       "    <tr>\n",
       "      <th>0</th>\n",
       "      <td>A Proposed Recipe for Designing, Building and ...</td>\n",
       "      <td>Engineering</td>\n",
       "    </tr>\n",
       "    <tr>\n",
       "      <th>1</th>\n",
       "      <td>This is a write up of my notes (plus some furt...</td>\n",
       "      <td>Engineering</td>\n",
       "    </tr>\n",
       "    <tr>\n",
       "      <th>2</th>\n",
       "      <td>524 SHARES Twitter Linkedin Facebook\\r\\n\\r\\nIn...</td>\n",
       "      <td>Startups &amp; Business</td>\n",
       "    </tr>\n",
       "    <tr>\n",
       "      <th>3</th>\n",
       "      <td>Merging the gaps between data science and engi...</td>\n",
       "      <td>Engineering</td>\n",
       "    </tr>\n",
       "    <tr>\n",
       "      <th>4</th>\n",
       "      <td>The energy was high at CloudApp’s Monday morni...</td>\n",
       "      <td>Product &amp; Design</td>\n",
       "    </tr>\n",
       "    <tr>\n",
       "      <th>5</th>\n",
       "      <td>After hearing about Pokemon Go, I spent a good...</td>\n",
       "      <td>Startups &amp; Business</td>\n",
       "    </tr>\n",
       "    <tr>\n",
       "      <th>6</th>\n",
       "      <td>The Importance of Listening to Your Customers ...</td>\n",
       "      <td>Product &amp; Design</td>\n",
       "    </tr>\n",
       "    <tr>\n",
       "      <th>7</th>\n",
       "      <td>React Native at Instagram\\n\\nReact Native has ...</td>\n",
       "      <td>Engineering</td>\n",
       "    </tr>\n",
       "    <tr>\n",
       "      <th>8</th>\n",
       "      <td>Visual aesthetics are very personal, often sub...</td>\n",
       "      <td>Engineering</td>\n",
       "    </tr>\n",
       "    <tr>\n",
       "      <th>9</th>\n",
       "      <td>A Product Manager’s Guide to Strong Team Commu...</td>\n",
       "      <td>Product &amp; Design</td>\n",
       "    </tr>\n",
       "  </tbody>\n",
       "</table>\n",
       "</div>"
      ],
      "text/plain": [
       "                                                body             category\n",
       "0  A Proposed Recipe for Designing, Building and ...          Engineering\n",
       "1  This is a write up of my notes (plus some furt...          Engineering\n",
       "2  524 SHARES Twitter Linkedin Facebook\\r\\n\\r\\nIn...  Startups & Business\n",
       "3  Merging the gaps between data science and engi...          Engineering\n",
       "4  The energy was high at CloudApp’s Monday morni...     Product & Design\n",
       "5  After hearing about Pokemon Go, I spent a good...  Startups & Business\n",
       "6  The Importance of Listening to Your Customers ...     Product & Design\n",
       "7  React Native at Instagram\\n\\nReact Native has ...          Engineering\n",
       "8  Visual aesthetics are very personal, often sub...          Engineering\n",
       "9  A Product Manager’s Guide to Strong Team Commu...     Product & Design"
      ]
     },
     "execution_count": 14,
     "metadata": {},
     "output_type": "execute_result"
    }
   ],
   "source": [
    "new_data.head(10)"
   ]
  },
  {
   "cell_type": "code",
   "execution_count": 15,
   "metadata": {},
   "outputs": [
    {
     "data": {
      "text/plain": [
       "dtype('O')"
      ]
     },
     "execution_count": 15,
     "metadata": {},
     "output_type": "execute_result"
    }
   ],
   "source": [
    "#Replacing the new line with spaces\n",
    "new_data['body'] = new_data['body'].replace('\\r',' ').replace('\\n',' ')\n",
    "new_data['body'].dtype"
   ]
  },
  {
   "cell_type": "markdown",
   "metadata": {},
   "source": [
    "### As the data has a lot Regex and Symbols that need to be parsed and stopwords to be removed before the modeling step. We will be defining a new Function to clean the body column and then we will apply it to the column."
   ]
  },
  {
   "cell_type": "code",
   "execution_count": 16,
   "metadata": {},
   "outputs": [
    {
     "name": "stdout",
     "output_type": "stream",
     "text": [
      "[nltk_data] Downloading package stopwords to\n",
      "[nltk_data]     C:\\Users\\user\\AppData\\Roaming\\nltk_data...\n",
      "[nltk_data]   Package stopwords is already up-to-date!\n"
     ]
    }
   ],
   "source": [
    "#Imporing Regex and nltk Libraries\n",
    "import re\n",
    "import nltk\n",
    "nltk.download('stopwords')\n",
    "from nltk.corpus import stopwords\n",
    "\n",
    "#Defining all the needed variables to be cleaned\n",
    "\n",
    "replace_by_space_re = re.compile('[/(){}\\[\\]\\|@,;]')\n",
    "bad_symbols_re = re.compile('[^0-9a-z #+_]')\n",
    "remove_num_re = re.compile('[\\d+]')\n",
    "stopwords = set(stopwords.words('english'))"
   ]
  },
  {
   "cell_type": "code",
   "execution_count": 17,
   "metadata": {},
   "outputs": [],
   "source": [
    "#Defining a function that clean the text.\n",
    "\n",
    "def clean_text(text):\n",
    "    text = text.lower()  #lowercase text\n",
    "    text = replace_by_space_re.sub(' ', text) #replace REPLACE_BY_SPACE_RE symbols by space in text\n",
    "    text = text.replace('x', '') #Remove the X values\n",
    "    text = text.replace('\\r',' ').replace('\\n',' ') #Remove the new lines values\n",
    "    text = remove_num_re.sub('', text) #removing numbers\n",
    "    text = bad_symbols_re.sub('', text) # delete symbols which are in BAD_SYMBOLS_RE from text\n",
    "    text = ' '.join(word for word in text.split() if word not in stopwords) # delete stopwords from text\n",
    "    return text"
   ]
  },
  {
   "cell_type": "code",
   "execution_count": 18,
   "metadata": {},
   "outputs": [],
   "source": [
    "#Appling the clean_text function on the body column.\n",
    "new_data[\"body\"] = new_data[\"body\"].apply(clean_text)"
   ]
  },
  {
   "cell_type": "code",
   "execution_count": 19,
   "metadata": {},
   "outputs": [
    {
     "data": {
      "text/html": [
       "<div>\n",
       "<style scoped>\n",
       "    .dataframe tbody tr th:only-of-type {\n",
       "        vertical-align: middle;\n",
       "    }\n",
       "\n",
       "    .dataframe tbody tr th {\n",
       "        vertical-align: top;\n",
       "    }\n",
       "\n",
       "    .dataframe thead th {\n",
       "        text-align: right;\n",
       "    }\n",
       "</style>\n",
       "<table border=\"1\" class=\"dataframe\">\n",
       "  <thead>\n",
       "    <tr style=\"text-align: right;\">\n",
       "      <th></th>\n",
       "      <th>body</th>\n",
       "      <th>category</th>\n",
       "    </tr>\n",
       "  </thead>\n",
       "  <tbody>\n",
       "    <tr>\n",
       "      <th>0</th>\n",
       "      <td>proposed recipe designing building testing mic...</td>\n",
       "      <td>Engineering</td>\n",
       "    </tr>\n",
       "    <tr>\n",
       "      <th>1</th>\n",
       "      <td>write notes plus research kyle simpsons ecelle...</td>\n",
       "      <td>Engineering</td>\n",
       "    </tr>\n",
       "    <tr>\n",
       "      <th>2</th>\n",
       "      <td>shares twitter linkedin facebook furiously com...</td>\n",
       "      <td>Startups &amp; Business</td>\n",
       "    </tr>\n",
       "    <tr>\n",
       "      <th>3</th>\n",
       "      <td>merging gaps data science engineering side lea...</td>\n",
       "      <td>Engineering</td>\n",
       "    </tr>\n",
       "    <tr>\n",
       "      <th>4</th>\n",
       "      <td>energy high cloudapps monday morning allhands ...</td>\n",
       "      <td>Product &amp; Design</td>\n",
       "    </tr>\n",
       "    <tr>\n",
       "      <th>5</th>\n",
       "      <td>hearing pokemon go spent good part weekend pla...</td>\n",
       "      <td>Startups &amp; Business</td>\n",
       "    </tr>\n",
       "    <tr>\n",
       "      <th>6</th>\n",
       "      <td>importance listening customers david cancel ma...</td>\n",
       "      <td>Product &amp; Design</td>\n",
       "    </tr>\n",
       "    <tr>\n",
       "      <th>7</th>\n",
       "      <td>react native instagram react native come long ...</td>\n",
       "      <td>Engineering</td>\n",
       "    </tr>\n",
       "    <tr>\n",
       "      <th>8</th>\n",
       "      <td>visual aesthetics personal often subconscious ...</td>\n",
       "      <td>Engineering</td>\n",
       "    </tr>\n",
       "    <tr>\n",
       "      <th>9</th>\n",
       "      <td>product managers guide strong team communicati...</td>\n",
       "      <td>Product &amp; Design</td>\n",
       "    </tr>\n",
       "    <tr>\n",
       "      <th>10</th>\n",
       "      <td>figuring organize marketing stack almost like ...</td>\n",
       "      <td>Startups &amp; Business</td>\n",
       "    </tr>\n",
       "    <tr>\n",
       "      <th>11</th>\n",
       "      <td>snapback cache use make infinite scrolling fee...</td>\n",
       "      <td>Engineering</td>\n",
       "    </tr>\n",
       "    <tr>\n",
       "      <th>12</th>\n",
       "      <td>think preproduct seed investments big chunk in...</td>\n",
       "      <td>Startups &amp; Business</td>\n",
       "    </tr>\n",
       "    <tr>\n",
       "      <th>13</th>\n",
       "      <td>product management culture management evgeny l...</td>\n",
       "      <td>Product &amp; Design</td>\n",
       "    </tr>\n",
       "    <tr>\n",
       "      <th>14</th>\n",
       "      <td>chinmay soman yuanchi ning iang fu hongliang u...</td>\n",
       "      <td>Engineering</td>\n",
       "    </tr>\n",
       "  </tbody>\n",
       "</table>\n",
       "</div>"
      ],
      "text/plain": [
       "                                                 body             category\n",
       "0   proposed recipe designing building testing mic...          Engineering\n",
       "1   write notes plus research kyle simpsons ecelle...          Engineering\n",
       "2   shares twitter linkedin facebook furiously com...  Startups & Business\n",
       "3   merging gaps data science engineering side lea...          Engineering\n",
       "4   energy high cloudapps monday morning allhands ...     Product & Design\n",
       "5   hearing pokemon go spent good part weekend pla...  Startups & Business\n",
       "6   importance listening customers david cancel ma...     Product & Design\n",
       "7   react native instagram react native come long ...          Engineering\n",
       "8   visual aesthetics personal often subconscious ...          Engineering\n",
       "9   product managers guide strong team communicati...     Product & Design\n",
       "10  figuring organize marketing stack almost like ...  Startups & Business\n",
       "11  snapback cache use make infinite scrolling fee...          Engineering\n",
       "12  think preproduct seed investments big chunk in...  Startups & Business\n",
       "13  product management culture management evgeny l...     Product & Design\n",
       "14  chinmay soman yuanchi ning iang fu hongliang u...          Engineering"
      ]
     },
     "execution_count": 19,
     "metadata": {},
     "output_type": "execute_result"
    }
   ],
   "source": [
    "new_data.head(15)"
   ]
  },
  {
   "cell_type": "markdown",
   "metadata": {},
   "source": [
    "## The data is cleaned and ready to be splitted to train, validation and test sets."
   ]
  },
  {
   "cell_type": "markdown",
   "metadata": {},
   "source": [
    "<a id=\"SP\"><a/>\n",
    "# Splitting the Data"
   ]
  },
  {
   "cell_type": "code",
   "execution_count": 20,
   "metadata": {},
   "outputs": [],
   "source": [
    "from sklearn.model_selection import train_test_split"
   ]
  },
  {
   "cell_type": "code",
   "execution_count": 21,
   "metadata": {},
   "outputs": [],
   "source": [
    "#split the data to X and y then to 60% train, 15% validation and 15% test\n",
    "X = new_data['body']\n",
    "y = new_data['category']\n",
    "\n",
    "X_train, X_test, y_train, y_test = train_test_split(X, y, test_size=0.15, random_state=2)\n",
    "\n",
    "X_train, X_val, y_train, y_val = train_test_split(X_train, y_train, test_size=0.15, random_state=2)"
   ]
  },
  {
   "cell_type": "code",
   "execution_count": 22,
   "metadata": {},
   "outputs": [],
   "source": [
    "#Saving the data to Excel files\n",
    "train = pd.concat([X_train, y_train], axis=1)\n",
    "train.to_excel('Train.xlsx')\n",
    "\n",
    "validation = pd.concat([X_val, y_val], axis=1)\n",
    "validation.to_excel('Validation.xlsx')\n",
    "\n",
    "test = pd.concat([X_test, y_test], axis=1)\n",
    "test.to_excel('Test.xlsx')"
   ]
  },
  {
   "cell_type": "code",
   "execution_count": 23,
   "metadata": {},
   "outputs": [
    {
     "name": "stdout",
     "output_type": "stream",
     "text": [
      "(1148, 2)\n",
      "(203, 2)\n",
      "(239, 2)\n",
      "(1590, 2)\n"
     ]
    }
   ],
   "source": [
    "print(train.shape)\n",
    "print(validation.shape)\n",
    "print(test.shape)\n",
    "print(new_data.shape)"
   ]
  },
  {
   "cell_type": "markdown",
   "metadata": {},
   "source": [
    "<a id='TC'><a/>\n",
    "# Data Transformation & Classification"
   ]
  },
  {
   "cell_type": "code",
   "execution_count": 24,
   "metadata": {},
   "outputs": [],
   "source": [
    "from sklearn.feature_extraction.text import TfidfVectorizer\n",
    "from sklearn.svm import LinearSVC\n",
    "from sklearn.multiclass import OneVsRestClassifier\n",
    "from sklearn.pipeline import Pipeline\n",
    "from sklearn.metrics import accuracy_score"
   ]
  },
  {
   "cell_type": "code",
   "execution_count": 25,
   "metadata": {},
   "outputs": [],
   "source": [
    "SVC = Pipeline([('tfidf', TfidfVectorizer(stop_words=stopwords)),\n",
    "               ('clf', OneVsRestClassifier(LinearSVC(),n_jobs=1))])"
   ]
  },
  {
   "cell_type": "code",
   "execution_count": 26,
   "metadata": {},
   "outputs": [
    {
     "name": "stdout",
     "output_type": "stream",
     "text": [
      "0.8866995073891626\n"
     ]
    }
   ],
   "source": [
    "SVC.fit(X_train, y_train)\n",
    "\n",
    "y_pred = SVC.predict(X_val)\n",
    "\n",
    "accuracy = accuracy_score(y_val,y_pred)\n",
    "print(accuracy)"
   ]
  },
  {
   "cell_type": "code",
   "execution_count": 27,
   "metadata": {},
   "outputs": [
    {
     "name": "stdout",
     "output_type": "stream",
     "text": [
      "0.9121338912133892\n"
     ]
    }
   ],
   "source": [
    "final_prediction = SVC.predict(X_test)\n",
    "\n",
    "model_accuracy = accuracy_score(y_test,final_prediction)\n",
    "print(model_accuracy)"
   ]
  }
 ],
 "metadata": {
  "kernelspec": {
   "display_name": "Python 3",
   "language": "python",
   "name": "python3"
  },
  "language_info": {
   "codemirror_mode": {
    "name": "ipython",
    "version": 3
   },
   "file_extension": ".py",
   "mimetype": "text/x-python",
   "name": "python",
   "nbconvert_exporter": "python",
   "pygments_lexer": "ipython3",
   "version": "3.7.0"
  }
 },
 "nbformat": 4,
 "nbformat_minor": 2
}
